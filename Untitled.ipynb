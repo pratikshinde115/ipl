{
 "cells": [
  {
   "cell_type": "code",
   "execution_count": 1,
   "id": "22961cfa",
   "metadata": {},
   "outputs": [],
   "source": [
    "dictt = {'hello':'hi',\n",
    "        'hellll0':'hey'}"
   ]
  },
  {
   "cell_type": "code",
   "execution_count": 3,
   "id": "60ec455b",
   "metadata": {},
   "outputs": [
    {
     "data": {
      "text/plain": [
       "dict_keys(['hello', 'hellll0'])"
      ]
     },
     "execution_count": 3,
     "metadata": {},
     "output_type": "execute_result"
    }
   ],
   "source": [
    "dictt.keys()"
   ]
  },
  {
   "cell_type": "code",
   "execution_count": 4,
   "id": "905a7970",
   "metadata": {},
   "outputs": [],
   "source": [
    "h = 'hello'"
   ]
  },
  {
   "cell_type": "code",
   "execution_count": 5,
   "id": "9317f039",
   "metadata": {},
   "outputs": [],
   "source": [
    "h = 'hello'"
   ]
  },
  {
   "cell_type": "code",
   "execution_count": 9,
   "id": "b801b4a4",
   "metadata": {},
   "outputs": [],
   "source": [
    "a = {1,2,3,4,5,5,4,5}\n"
   ]
  },
  {
   "cell_type": "code",
   "execution_count": 7,
   "id": "0c88ca7f",
   "metadata": {},
   "outputs": [
    {
     "ename": "TypeError",
     "evalue": "'set' object is not subscriptable",
     "output_type": "error",
     "traceback": [
      "\u001b[0;31m---------------------------------------------------------------------------\u001b[0m",
      "\u001b[0;31mTypeError\u001b[0m                                 Traceback (most recent call last)",
      "Input \u001b[0;32mIn [7]\u001b[0m, in \u001b[0;36m<cell line: 1>\u001b[0;34m()\u001b[0m\n\u001b[0;32m----> 1\u001b[0m \u001b[43ma\u001b[49m\u001b[43m[\u001b[49m\u001b[38;5;241;43m3\u001b[39;49m\u001b[43m]\u001b[49m\n",
      "\u001b[0;31mTypeError\u001b[0m: 'set' object is not subscriptable"
     ]
    }
   ],
   "source": [
    "a[3]"
   ]
  },
  {
   "cell_type": "code",
   "execution_count": 10,
   "id": "2b693622",
   "metadata": {},
   "outputs": [
    {
     "data": {
      "text/plain": [
       "{1, 2, 3, 4, 5}"
      ]
     },
     "execution_count": 10,
     "metadata": {},
     "output_type": "execute_result"
    }
   ],
   "source": [
    "a"
   ]
  },
  {
   "cell_type": "code",
   "execution_count": 67,
   "id": "d0ce982a",
   "metadata": {},
   "outputs": [],
   "source": [
    "def detect_prime(inputt):\n",
    "    if inputt//inputt == 0:\n",
    "        print('it is prime no')\n",
    "    else:\n",
    "        print('it is not')\n",
    "    "
   ]
  },
  {
   "cell_type": "code",
   "execution_count": 68,
   "id": "e6f42888",
   "metadata": {},
   "outputs": [
    {
     "name": "stdout",
     "output_type": "stream",
     "text": [
      "it is not\n"
     ]
    }
   ],
   "source": [
    "detect_prime(3)"
   ]
  },
  {
   "cell_type": "code",
   "execution_count": 53,
   "id": "296cdd81",
   "metadata": {},
   "outputs": [
    {
     "data": {
      "text/plain": [
       "1"
      ]
     },
     "execution_count": 53,
     "metadata": {},
     "output_type": "execute_result"
    }
   ],
   "source": [
    "33"
   ]
  },
  {
   "cell_type": "code",
   "execution_count": 66,
   "id": "52d7f085",
   "metadata": {},
   "outputs": [
    {
     "data": {
      "text/plain": [
       "1"
      ]
     },
     "execution_count": 66,
     "metadata": {},
     "output_type": "execute_result"
    }
   ],
   "source": [
    "2//2"
   ]
  },
  {
   "cell_type": "code",
   "execution_count": 74,
   "id": "b2a4ba54",
   "metadata": {},
   "outputs": [
    {
     "ename": "SyntaxError",
     "evalue": "invalid syntax (4053391452.py, line 4)",
     "output_type": "error",
     "traceback": [
      "\u001b[0;36m  Input \u001b[0;32mIn [74]\u001b[0;36m\u001b[0m\n\u001b[0;31m    for j in range(0,len(lis):\u001b[0m\n\u001b[0m                             ^\u001b[0m\n\u001b[0;31mSyntaxError\u001b[0m\u001b[0;31m:\u001b[0m invalid syntax\n"
     ]
    }
   ],
   "source": [
    "lis = [2,3,2,2,2,2,3,4,9,5]\n",
    "\n",
    "def findmode():\n",
    "    for j in range(0,len(lis):\n",
    "        for i in lis:\n",
    "            if i != lis[j]:\n",
    "                   \n",
    "            \n",
    "        \n",
    "      \n",
    "    counter = counter+1\n",
    "        \n",
    "    "
   ]
  },
  {
   "cell_type": "code",
   "execution_count": 73,
   "id": "781666a4",
   "metadata": {},
   "outputs": [
    {
     "data": {
      "text/plain": [
       "range(0, 10)"
      ]
     },
     "execution_count": 73,
     "metadata": {},
     "output_type": "execute_result"
    }
   ],
   "source": [
    "range(0,len(lis))"
   ]
  },
  {
   "cell_type": "code",
   "execution_count": 72,
   "id": "c93453eb",
   "metadata": {},
   "outputs": [],
   "source": [
    "lis = [2,3,2,2,2,2,3,4,9,5]\n"
   ]
  },
  {
   "cell_type": "code",
   "execution_count": 77,
   "id": "619e4caf",
   "metadata": {},
   "outputs": [],
   "source": [
    "lis.sort()"
   ]
  },
  {
   "cell_type": "code",
   "execution_count": 78,
   "id": "e59bfab7",
   "metadata": {},
   "outputs": [
    {
     "data": {
      "text/plain": [
       "[2, 2, 2, 2, 2, 3, 3, 4, 5, 9]"
      ]
     },
     "execution_count": 78,
     "metadata": {},
     "output_type": "execute_result"
    }
   ],
   "source": [
    "lis+"
   ]
  },
  {
   "cell_type": "code",
   "execution_count": null,
   "id": "d1bc3cc0",
   "metadata": {},
   "outputs": [],
   "source": []
  }
 ],
 "metadata": {
  "kernelspec": {
   "display_name": "Python 3 (ipykernel)",
   "language": "python",
   "name": "python3"
  },
  "language_info": {
   "codemirror_mode": {
    "name": "ipython",
    "version": 3
   },
   "file_extension": ".py",
   "mimetype": "text/x-python",
   "name": "python",
   "nbconvert_exporter": "python",
   "pygments_lexer": "ipython3",
   "version": "3.9.12"
  }
 },
 "nbformat": 4,
 "nbformat_minor": 5
}
